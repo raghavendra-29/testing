{
 "cells": [
  {
   "cell_type": "code",
   "execution_count": 50,
   "metadata": {},
   "outputs": [
    {
     "name": "stdout",
     "output_type": "stream",
     "text": [
      "frame1\n",
      "[[1]]\n",
      "[[1]]\n",
      "[[1]]\n",
      "[[0]]\n",
      "[[0]]\n"
     ]
    }
   ],
   "source": [
    "import numpy as np\n",
    "from keras.preprocessing import image\n",
    "\n",
    "from tkinter import *\n",
    "from PIL import ImageTk, Image\n",
    "from tkinter import filedialog\n",
    "import os\n",
    "from keras.models import load_model\n",
    "\n",
    "classifier = load_model('chestxray.h5')\n",
    "classifier.compile(optimizer = 'adam', loss = 'binary_crossentropy', metrics = ['accuracy'])\n",
    "top = Tk()\n",
    "top.geometry(\"550x450+400+150\")\n",
    "top.resizable(width=True, height=True)\n",
    "top.configure(background=\"#fffdd0\")\n",
    "\n",
    "def openfn():\n",
    "    filename = filedialog.askopenfilename(title='open')\n",
    "    return filename\n",
    "def open_img():\n",
    "    x = openfn()\n",
    "    test_image = image.load_img(x, target_size = (64, 64))\n",
    "    test_image = image.img_to_array(test_image)\n",
    "    test_image = np.expand_dims(test_image, axis = 0)\n",
    "    result = classifier.predict_classes(test_image)\n",
    "    print(result)\n",
    "    index=['The patient is not suffering from Pneumonia','The patient is suffering from Pneumonia']\n",
    "    label = Label(top, text=\"Result: \"+str(index[result[0][0]]))\n",
    "    label.pack()\n",
    "    img = Image.open(x)\n",
    "    img = img.resize((250, 250), Image.ANTIALIAS)\n",
    "    img = ImageTk.PhotoImage(img)\n",
    "    panel = Label(top, image=img)\n",
    "    panel.image = img\n",
    "    panel.pack()\n",
    "###########\n",
    "def name():\n",
    "    name=entry1.pack(fill=BOTH,padx=5,expand=True)\n",
    "    print(name)\n",
    "    label2=label(top,text=\"Patient Name\"+atr(entry1[name[0][0]])).pack()\n",
    "#########################################\n",
    "frame1=Frame(top)\n",
    "frame1.pack(fill=BOTH)\n",
    "\n",
    "L1=Label(frame1, text=\"PATIENT NAME\",width=25,fg=\"blue\",bg=\"#fffdd0\")                 #label created with title \"PATIENT NAME\"\n",
    "L1.pack(side=LEFT,padx=5,pady=5)\n",
    "\n",
    "entry1=Entry(frame1)                                           #entry box created to take input of \"PATIENT NAME\"\n",
    "entry1.pack(fill=BOTH,padx=5,expand=True)\n",
    "print('frame1')\n",
    "############\n",
    "frame2=Frame(top)\n",
    "frame2.pack(fill=BOTH,expand=False)\n",
    "\n",
    "L2=Label(frame2,text=\"AGE\",width=25,bg=\"#fffdd0\",fg=\"blue\")                           #label created \"AGE\"\n",
    "L2.pack(side=LEFT,padx=5,pady=5)\n",
    "\n",
    "entry2=Spinbox(frame2,from_=0,to=100)                          #spinbox range \"0-100\"\n",
    "entry2.pack(fill=BOTH,padx=5,expand=True)\n",
    "###################\n",
    "#        creating frame 3 (gender) using radiobuttons tool\n",
    "frame3=Frame(top)\n",
    "frame3.pack(fill=BOTH,expand=False)\n",
    "\n",
    "L3=Label(frame3,text=\"GENDER\",width=25,bg=\"#fffdd0\",fg=\"blue\")\n",
    "L3.pack(side=LEFT,padx=5,pady=5)\n",
    "\n",
    "option1=Radiobutton(frame3,text=\"MALE\",padx=20,value=1)                           #radiobutton \"MALE\"\n",
    "option1.pack(anchor=W)\n",
    "option2=Radiobutton(frame3,text=\"FEMALE\",padx=20,value=2).pack(anchor=W)  \n",
    "###################\n",
    "top.title('THE FRONTLINE(Pneumonia Detection)')\n",
    "Label(top,text=\"Please uplaod your X-ray:\",font=\"arial\",bg=\"#fffdd0\").pack()\n",
    "btn = Button(top, text='UPLOAD X-ray', relief=RAISED,cursor=\"plus\", command=open_img).pack()\n",
    "\n",
    "\n",
    "top.mainloop()"
   ]
  },
  {
   "cell_type": "code",
   "execution_count": null,
   "metadata": {},
   "outputs": [],
   "source": []
  },
  {
   "cell_type": "code",
   "execution_count": null,
   "metadata": {},
   "outputs": [],
   "source": []
  },
  {
   "cell_type": "code",
   "execution_count": null,
   "metadata": {},
   "outputs": [],
   "source": []
  },
  {
   "cell_type": "code",
   "execution_count": null,
   "metadata": {},
   "outputs": [],
   "source": []
  }
 ],
 "metadata": {
  "kernelspec": {
   "display_name": "Python 3",
   "language": "python",
   "name": "python3"
  },
  "language_info": {
   "codemirror_mode": {
    "name": "ipython",
    "version": 3
   },
   "file_extension": ".py",
   "mimetype": "text/x-python",
   "name": "python",
   "nbconvert_exporter": "python",
   "pygments_lexer": "ipython3",
   "version": "3.7.3"
  }
 },
 "nbformat": 4,
 "nbformat_minor": 2
}
